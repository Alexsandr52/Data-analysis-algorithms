{
  "cells": [
    {
      "cell_type": "markdown",
      "metadata": {
        "id": "b-eNSDPndfKU"
      },
      "source": [
        "\n",
        "1. Обучить любую модель классификации на датасете IRIS до применения PCA и после него. Сравнить качество классификации по отложенной выборке.\n"
      ]
    },
    {
      "cell_type": "code",
      "execution_count": 93,
      "metadata": {
        "id": "QvxFN6eta5kU"
      },
      "outputs": [],
      "source": [
        "import numpy as np\n",
        "import pandas as pd\n",
        "from sklearn.model_selection import train_test_split\n",
        "import matplotlib.pyplot as plt\n",
        "import seaborn as sns\n",
        "from sklearn import datasets"
      ]
    },
    {
      "cell_type": "code",
      "execution_count": 94,
      "metadata": {},
      "outputs": [],
      "source": [
        "X, y = datasets.load_iris(return_X_y=True)\n",
        "\n",
        "X_train, X_test, y_train, y_test = train_test_split(X, y, test_size=0.2, random_state=1)"
      ]
    },
    {
      "cell_type": "code",
      "execution_count": 95,
      "metadata": {},
      "outputs": [],
      "source": [
        "def e_metrics(x1, x2):\n",
        "    \n",
        "    distance = 0\n",
        "    for i in range(len(x1)):\n",
        "        distance += np.square(x1[i] - x2[i])\n",
        "    \n",
        "    return np.sqrt(distance)"
      ]
    },
    {
      "cell_type": "code",
      "execution_count": 96,
      "metadata": {},
      "outputs": [],
      "source": [
        "def knn(x_train, y_train, x_test, k):\n",
        "    \n",
        "    answers = []\n",
        "    for x in x_test:\n",
        "        test_distances = []\n",
        "            \n",
        "        for i in range(len(x_train)):\n",
        "            \n",
        "            distance = e_metrics(x, x_train[i])\n",
        "            \n",
        "            test_distances.append((distance, y_train[i]))\n",
        "        \n",
        "        classes = {class_item: 0 for class_item in set(y_train)}\n",
        "        \n",
        "        for d in sorted(test_distances)[0:k]:\n",
        "            if d[0] == 0:\n",
        "                classes[d[1]] += 1\n",
        "                continue    \n",
        "            \n",
        "            classes[d[1]] += 1/d[0]\n",
        "\n",
        "        answers.append(sorted(classes, key=classes.get)[-1])\n",
        "\n",
        "    return answers\n",
        "\n",
        "def accuracy(pred, y):\n",
        "    return (sum(pred == y) / len(y))"
      ]
    },
    {
      "cell_type": "code",
      "execution_count": 97,
      "metadata": {},
      "outputs": [
        {
          "name": "stdout",
          "output_type": "stream",
          "text": [
            "Точность алгоритма при k = 1: 1.000\n",
            "Точность алгоритма при k = 2: 1.000\n",
            "Точность алгоритма при k = 3: 1.000\n",
            "Точность алгоритма при k = 4: 1.000\n",
            "Точность алгоритма при k = 5: 1.000\n",
            "Точность алгоритма при k = 6: 1.000\n",
            "Точность алгоритма при k = 7: 0.967\n",
            "Точность алгоритма при k = 8: 1.000\n",
            "Точность алгоритма при k = 9: 0.967\n",
            "Точность алгоритма при k = 10: 0.967\n",
            "Точность алгоритма при k = 11: 0.967\n",
            "Точность алгоритма при k = 12: 0.967\n",
            "Точность алгоритма при k = 13: 0.967\n",
            "Точность алгоритма при k = 14: 0.967\n",
            "Точность алгоритма при k = 15: 0.967\n",
            "Точность алгоритма при k = 16: 0.967\n",
            "Точность алгоритма при k = 17: 0.967\n",
            "Точность алгоритма при k = 18: 0.967\n",
            "Точность алгоритма при k = 19: 0.967\n"
          ]
        }
      ],
      "source": [
        "k = 5\n",
        "for k in range(1, 20):\n",
        "    y_pred = knn(X_train, y_train, X_test, k)\n",
        "\n",
        "    print(f'Точность алгоритма при k = {k}: {accuracy(y_pred, y_test):.3f}')"
      ]
    },
    {
      "cell_type": "code",
      "execution_count": 98,
      "metadata": {
        "id": "eE6X-RyIdfJ-"
      },
      "outputs": [],
      "source": [
        "# Для начала отмасштабируем выборку\n",
        "X_ = X.astype(float)\n",
        "\n",
        "rows, cols = X_.shape\n",
        "\n",
        "# центрирование - вычитание из каждого значения среднего по строке\n",
        "means = X_.mean(0)\n",
        "for i in range(rows):\n",
        "    for j in range(cols):\n",
        "        X_[i, j] -= means[j]\n",
        "\n",
        "# деление каждого значения на стандартное отклонение\n",
        "std = np.std(X_, axis=0)\n",
        "for i in range(cols):\n",
        "    for j in range(rows):\n",
        "        X_[j][i] /= std[i]"
      ]
    },
    {
      "cell_type": "code",
      "execution_count": 99,
      "metadata": {
        "id": "ItFOmLW9dfKB",
        "outputId": "0b507805-c106-4539-d15a-4dc8327b764f"
      },
      "outputs": [
        {
          "name": "stdout",
          "output_type": "stream",
          "text": [
            "Собственные значения в порядке убывания:\n",
            "437.77467247979905\n",
            "137.1045707202107\n",
            "22.013531335697174\n",
            "3.1072254642928927\n"
          ]
        }
      ],
      "source": [
        "# Найдем собственные векторы и собственные значения\n",
        " \n",
        "covariance_matrix = X_.T.dot(X_)\n",
        "\n",
        "eig_values, eig_vectors = np.linalg.eig(covariance_matrix)\n",
        "\n",
        "# сформируем список кортежей (собственное значение, собственный вектор)\n",
        "eig_pairs = [(np.abs(eig_values[i]), eig_vectors[:, i]) for i in range(len(eig_values))]\n",
        "\n",
        "# и отсортируем список по убыванию собственных значений\n",
        "eig_pairs.sort(key=lambda x: x[0], reverse=True)\n",
        "\n",
        "print('Собственные значения в порядке убывания:')\n",
        "for i in eig_pairs:\n",
        "    print(i[0])"
      ]
    },
    {
      "cell_type": "code",
      "execution_count": 100,
      "metadata": {
        "id": "Ct-1I70mdfKE",
        "outputId": "ab04c5c2-649d-4f6f-e849-3791203481d2"
      },
      "outputs": [
        {
          "name": "stdout",
          "output_type": "stream",
          "text": [
            "Доля дисперсии, описвыаемая каждой из компонент \n",
            "[72.96244541329986, 22.85076178670179, 3.6689218892828626, 0.5178709107154822]\n",
            "Кумулятивная доля дисперсии по компонентам \n",
            "[ 72.96244541  95.8132072   99.48212909 100.        ]\n"
          ]
        }
      ],
      "source": [
        "eig_sum = sum(eig_values)\n",
        "var_exp = [(i / eig_sum) * 100 for i in sorted(eig_values, reverse=True)]\n",
        "cum_var_exp = np.cumsum(var_exp)\n",
        "print(f'Доля дисперсии, описвыаемая каждой из компонент \\n{var_exp}')\n",
        "\n",
        "# а теперя оценим кумулятивную (то есть накапливаемую) дисперсию при учитывании каждой из компонент\n",
        "print(f'Кумулятивная доля дисперсии по компонентам \\n{cum_var_exp}')"
      ]
    },
    {
      "cell_type": "code",
      "execution_count": 101,
      "metadata": {},
      "outputs": [
        {
          "data": {
            "text/plain": [
              "[72.96244541329986, 22.85076178670179, 3.6689218892828626, 0.5178709107154822]"
            ]
          },
          "execution_count": 101,
          "metadata": {},
          "output_type": "execute_result"
        }
      ],
      "source": [
        "var_exp"
      ]
    },
    {
      "cell_type": "code",
      "execution_count": 102,
      "metadata": {
        "id": "z4xcGvf7dfKI",
        "outputId": "e406100f-3bd4-40fb-ce09-15db12e77a12"
      },
      "outputs": [
        {
          "name": "stdout",
          "output_type": "stream",
          "text": [
            "Матрица весов W:\n",
            " [[ 0.52106591 -0.37741762]\n",
            " [-0.26934744 -0.92329566]\n",
            " [ 0.5804131  -0.02449161]\n",
            " [ 0.56485654 -0.06694199]]\n"
          ]
        }
      ],
      "source": [
        "# Сформируем вектор весов из собственных векторов, соответствующих первым двум главным компонентам\n",
        "W = np.hstack((eig_pairs[0][1].reshape(4,1), eig_pairs[1][1].reshape(4,1)))\n",
        "\n",
        "print(f'Матрица весов W:\\n', W)"
      ]
    },
    {
      "cell_type": "code",
      "execution_count": 103,
      "metadata": {},
      "outputs": [],
      "source": [
        "X_train, X_test, y_train, y_test = train_test_split(X.dot(W), y, test_size=0.2, random_state=1)"
      ]
    },
    {
      "cell_type": "code",
      "execution_count": 104,
      "metadata": {},
      "outputs": [
        {
          "name": "stdout",
          "output_type": "stream",
          "text": [
            "Точность алгоритма при k = 1: 0.967\n",
            "Точность алгоритма при k = 2: 0.967\n",
            "Точность алгоритма при k = 3: 0.967\n",
            "Точность алгоритма при k = 4: 0.967\n",
            "Точность алгоритма при k = 5: 0.967\n",
            "Точность алгоритма при k = 6: 0.967\n",
            "Точность алгоритма при k = 7: 0.967\n",
            "Точность алгоритма при k = 8: 0.967\n",
            "Точность алгоритма при k = 9: 0.967\n",
            "Точность алгоритма при k = 10: 0.967\n",
            "Точность алгоритма при k = 11: 0.967\n",
            "Точность алгоритма при k = 12: 0.967\n",
            "Точность алгоритма при k = 13: 0.967\n",
            "Точность алгоритма при k = 14: 0.967\n",
            "Точность алгоритма при k = 15: 0.967\n",
            "Точность алгоритма при k = 16: 0.967\n",
            "Точность алгоритма при k = 17: 0.967\n",
            "Точность алгоритма при k = 18: 0.967\n",
            "Точность алгоритма при k = 19: 0.967\n"
          ]
        }
      ],
      "source": [
        "\n",
        "for k in range(1, 20):\n",
        "    y_pred = knn(X_train, y_train, X_test, k)\n",
        "\n",
        "    print(f'Точность алгоритма при k = {k}: {accuracy(y_pred, y_test):.3f}')"
      ]
    }
  ],
  "metadata": {
    "colab": {
      "collapsed_sections": [],
      "name": "Lesson_8.ipynb",
      "provenance": []
    },
    "kernelspec": {
      "display_name": "Python 3.9.13 64-bit",
      "language": "python",
      "name": "python3"
    },
    "language_info": {
      "codemirror_mode": {
        "name": "ipython",
        "version": 3
      },
      "file_extension": ".py",
      "mimetype": "text/x-python",
      "name": "python",
      "nbconvert_exporter": "python",
      "pygments_lexer": "ipython3",
      "version": "3.9.13"
    },
    "vscode": {
      "interpreter": {
        "hash": "50292dbb1f747f7151d445135d392af3138fb3c65386d17d9510cb605222b10b"
      }
    }
  },
  "nbformat": 4,
  "nbformat_minor": 0
}
